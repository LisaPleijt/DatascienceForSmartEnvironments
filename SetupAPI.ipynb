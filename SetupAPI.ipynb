{
 "cells": [
  {
   "cell_type": "code",
   "execution_count": 1,
   "id": "ruled-mayor",
   "metadata": {},
   "outputs": [],
   "source": [
    "import pandas as pd\n",
    "import seaborn as sns\n",
    "import os\n",
    "import tweepy\n",
    "import requests\n",
    "import os\n",
    "import json"
   ]
  },
  {
   "cell_type": "code",
   "execution_count": 2,
   "id": "continuing-staff",
   "metadata": {},
   "outputs": [],
   "source": [
    "from textblob import TextBlob\n",
    "import sys\n",
    "import tweepy\n",
    "import matplotlib.pyplot as plt\n",
    "import pandas as pd\n",
    "import numpy as np\n",
    "import os\n",
    "import nltk\n",
    "import pycountry\n",
    "import re\n",
    "import string"
   ]
  },
  {
   "cell_type": "code",
   "execution_count": 3,
   "id": "choice-founder",
   "metadata": {},
   "outputs": [],
   "source": [
    "#!pip install textblob"
   ]
  },
  {
   "cell_type": "code",
   "execution_count": 4,
   "id": "fresh-glasgow",
   "metadata": {},
   "outputs": [],
   "source": [
    "# Import Librariesfrom textblob import TextBlob\n",
    "import sys\n",
    "import tweepy\n",
    "import matplotlib.pyplot as plt\n",
    "import pandas as pd\n",
    "import numpy as np\n",
    "import os\n",
    "import nltk\n",
    "import pycountry\n",
    "import re\n",
    "import string \n",
    "#from wordcloud import WordCloud, STOPWORDS\n",
    "from PIL import Image\n",
    "from nltk.sentiment.vader import SentimentIntensityAnalyzer\n",
    "from langdetect import detect\n",
    "from nltk.stem import SnowballStemmer\n",
    "from nltk.sentiment.vader import SentimentIntensityAnalyzer\n",
    "from sklearn.feature_extraction.text import CountVectorizer\n",
    "\n"
   ]
  },
  {
   "cell_type": "code",
   "execution_count": 5,
   "id": "potential-earth",
   "metadata": {},
   "outputs": [],
   "source": [
    "#Tutorial focussing on geo\n",
    "#https://www.earthdatascience.org/courses/use-data-open-source-python/intro-to-apis/twitter-data-in-python/\n",
    "#Tutorial on sentiment analysis\n",
    "#https://www.earthdatascience.org/courses/use-data-open-source-python/intro-to-apis/analyze-tweet-sentiment-in-python/"
   ]
  },
  {
   "cell_type": "code",
   "execution_count": 3,
   "id": "numerical-object",
   "metadata": {},
   "outputs": [],
   "source": [
    "\n",
    "\n",
    "# To set your environment variables in your terminal run the following line:\n",
    "BEARER_TOKEN='AAAAAAAAAAAAAAAAAAAAADeBNwEAAAAAiuDVAcKAbtmpSw%2FjnGLJOR0OQEo%3DcXPgnblTt47Lw8HWNr4JNu9353gPzS5UjmWErAPg0oN8IZUpsC'\n",
    "\n",
    "\n",
    "def auth():\n",
    "    #return os.environ.get(\"BEARER_TOKEN\")\n",
    "    return BEARER_TOKEN\n",
    "\n",
    "\n",
    "def create_url():\n",
    "    query = \"avondklok -is:retweet\"\n",
    "    # Tweet fields are adjustable.\n",
    "    # Options include:\n",
    "    # attachments, author_id, context_annotations,\n",
    "    # conversation_id, created_at, entities, geo, id,\n",
    "    # in_reply_to_user_id, lang, non_public_metrics, organic_metrics,\n",
    "    # possibly_sensitive, promoted_metrics, public_metrics, referenced_tweets,\n",
    "    # source, text, and withheld\n",
    "    tweet_fields = \"tweet.fields=author_id\"\n",
    "    url = \"https://api.twitter.com/2/tweets/search/recent?query={}&{}\".format(\n",
    "        query, tweet_fields\n",
    "    )\n",
    "    return url\n",
    "\n",
    "\n",
    "def create_headers(bearer_token):\n",
    "    headers = {\"Authorization\": \"Bearer {}\".format(bearer_token)}\n",
    "    return headers\n",
    "\n",
    "\n",
    "def connect_to_endpoint(url, headers):\n",
    "    response = requests.request(\"GET\", url, headers=headers)\n",
    "    print(headers)\n",
    "    print(response.status_code)\n",
    "    if response.status_code != 200:\n",
    "        raise Exception(response.status_code, response.text)\n",
    "    return response.json()\n",
    "\n",
    "\n",
    "def main():\n",
    "    bearer_token = auth()\n",
    "    url = create_url()\n",
    "    headers = create_headers(bearer_token)\n",
    "    json_response = connect_to_endpoint(url, headers)\n",
    "    print(json.dumps(json_response, indent=4, sort_keys=True))\n",
    "\n"
   ]
  },
  {
   "cell_type": "code",
   "execution_count": 38,
   "id": "horizontal-dimension",
   "metadata": {},
   "outputs": [
    {
     "ename": "TypeError",
     "evalue": "'AppAuthHandler' object is not callable",
     "output_type": "error",
     "traceback": [
      "\u001b[1;31m---------------------------------------------------------------------------\u001b[0m",
      "\u001b[1;31mTypeError\u001b[0m                                 Traceback (most recent call last)",
      "\u001b[1;32m<ipython-input-38-0eecc99a5614>\u001b[0m in \u001b[0;36m<module>\u001b[1;34m\u001b[0m\n\u001b[1;32m----> 1\u001b[1;33m \u001b[0mbearer_token\u001b[0m \u001b[1;33m=\u001b[0m \u001b[0mauth\u001b[0m\u001b[1;33m(\u001b[0m\u001b[1;33m)\u001b[0m\u001b[1;33m\u001b[0m\u001b[1;33m\u001b[0m\u001b[0m\n\u001b[0m\u001b[0;32m      2\u001b[0m \u001b[0murl\u001b[0m \u001b[1;33m=\u001b[0m \u001b[0mcreate_url\u001b[0m\u001b[1;33m(\u001b[0m\u001b[1;33m)\u001b[0m\u001b[1;33m\u001b[0m\u001b[1;33m\u001b[0m\u001b[0m\n\u001b[0;32m      3\u001b[0m \u001b[0mheaders\u001b[0m \u001b[1;33m=\u001b[0m \u001b[0mcreate_headers\u001b[0m\u001b[1;33m(\u001b[0m\u001b[0mbearer_token\u001b[0m\u001b[1;33m)\u001b[0m\u001b[1;33m\u001b[0m\u001b[1;33m\u001b[0m\u001b[0m\n\u001b[0;32m      4\u001b[0m \u001b[0mjson_response\u001b[0m \u001b[1;33m=\u001b[0m \u001b[0mconnect_to_endpoint\u001b[0m\u001b[1;33m(\u001b[0m\u001b[0murl\u001b[0m\u001b[1;33m,\u001b[0m \u001b[0mheaders\u001b[0m\u001b[1;33m)\u001b[0m\u001b[1;33m\u001b[0m\u001b[1;33m\u001b[0m\u001b[0m\n\u001b[0;32m      5\u001b[0m \u001b[0mprint\u001b[0m\u001b[1;33m(\u001b[0m\u001b[0mjson\u001b[0m\u001b[1;33m.\u001b[0m\u001b[0mdumps\u001b[0m\u001b[1;33m(\u001b[0m\u001b[0mjson_response\u001b[0m\u001b[1;33m,\u001b[0m \u001b[0mindent\u001b[0m\u001b[1;33m=\u001b[0m\u001b[1;36m4\u001b[0m\u001b[1;33m,\u001b[0m \u001b[0msort_keys\u001b[0m\u001b[1;33m=\u001b[0m\u001b[1;32mTrue\u001b[0m\u001b[1;33m)\u001b[0m\u001b[1;33m)\u001b[0m\u001b[1;33m\u001b[0m\u001b[1;33m\u001b[0m\u001b[0m\n",
      "\u001b[1;31mTypeError\u001b[0m: 'AppAuthHandler' object is not callable"
     ]
    }
   ],
   "source": [
    "bearer_token = auth()\n",
    "url = create_url()\n",
    "headers = create_headers(bearer_token)\n",
    "json_response = connect_to_endpoint(url, headers)\n",
    "print(json.dumps(json_response, indent=4, sort_keys=True))\n",
    "\n",
    "\n",
    "print(\"nondump\")"
   ]
  },
  {
   "cell_type": "code",
   "execution_count": 6,
   "id": "pregnant-peninsula",
   "metadata": {},
   "outputs": [
    {
     "data": {
      "text/plain": [
       "'C:\\\\Users\\\\idont\\\\OneDrive\\\\Documents\\\\Data_Projects\\\\data4smart\\\\Scripts'"
      ]
     },
     "execution_count": 6,
     "metadata": {},
     "output_type": "execute_result"
    }
   ],
   "source": [
    "os.getcwd()"
   ]
  },
  {
   "cell_type": "code",
   "execution_count": 7,
   "id": "incorporate-intelligence",
   "metadata": {},
   "outputs": [
    {
     "ename": "NameError",
     "evalue": "name 'url' is not defined",
     "output_type": "error",
     "traceback": [
      "\u001b[1;31m---------------------------------------------------------------------------\u001b[0m",
      "\u001b[1;31mNameError\u001b[0m                                 Traceback (most recent call last)",
      "\u001b[1;32m<ipython-input-7-5446fb31b66c>\u001b[0m in \u001b[0;36m<module>\u001b[1;34m\u001b[0m\n\u001b[1;32m----> 1\u001b[1;33m \u001b[0murl\u001b[0m\u001b[1;33m\u001b[0m\u001b[1;33m\u001b[0m\u001b[0m\n\u001b[0m",
      "\u001b[1;31mNameError\u001b[0m: name 'url' is not defined"
     ]
    }
   ],
   "source": [
    "url"
   ]
  },
  {
   "cell_type": "code",
   "execution_count": 8,
   "id": "distinct-speech",
   "metadata": {},
   "outputs": [],
   "source": []
  },
  {
   "cell_type": "code",
   "execution_count": 13,
   "id": "alternate-patio",
   "metadata": {},
   "outputs": [
    {
     "name": "stdout",
     "output_type": "stream",
     "text": [
      "start\n",
      "RT @PamelaZaat: Dierenopvang Amsterdam ziet een stijging van het aantal verwaarloosde huisdieren 😟https://t.co/addRrsN19v\n",
      "['RT @PamelaZaat: Dierenopvang Amsterdam ziet een stijging van het aantal verwaarloosde huisdieren 😟https://t.co/addRrsN19v']\n",
      "RT @PamelaZaat: Dierenopvang Amsterdam ziet een stijging van het aantal verwaarloosde huisdieren 😟https://t.co/addRrsN19v\n",
      "{'neg': 0.0, 'neu': 1.0, 'pos': 0.0, 'compound': 0.0}\n",
      "Fout, de #coronamaatregelen zorgen voor meer leed bij huisdieren. - Corona zorgt voor meer huisdieren bij Dierenopv… https://t.co/N6RBwe2iFT\n",
      "['RT @PamelaZaat: Dierenopvang Amsterdam ziet een stijging van het aantal verwaarloosde huisdieren 😟https://t.co/addRrsN19v', 'Fout, de #coronamaatregelen zorgen voor meer leed bij huisdieren. - Corona zorgt voor meer huisdieren bij Dierenopv… https://t.co/N6RBwe2iFT']\n",
      "Fout, de #coronamaatregelen zorgen voor meer leed bij huisdieren. - Corona zorgt voor meer huisdieren bij Dierenopv… https://t.co/N6RBwe2iFT\n",
      "{'neg': 0.0, 'neu': 1.0, 'pos': 0.0, 'compound': 0.0}\n",
      "Corona zorgt voor meer huisdieren bij Dierenopvang Amsterdam https://t.co/j7HUhBb4i4 😢\n",
      "['RT @PamelaZaat: Dierenopvang Amsterdam ziet een stijging van het aantal verwaarloosde huisdieren 😟https://t.co/addRrsN19v', 'Fout, de #coronamaatregelen zorgen voor meer leed bij huisdieren. - Corona zorgt voor meer huisdieren bij Dierenopv… https://t.co/N6RBwe2iFT', 'Corona zorgt voor meer huisdieren bij Dierenopvang Amsterdam https://t.co/j7HUhBb4i4 😢']\n",
      "Corona zorgt voor meer huisdieren bij Dierenopvang Amsterdam https://t.co/j7HUhBb4i4 😢\n",
      "{'neg': 0.0, 'neu': 1.0, 'pos': 0.0, 'compound': 0.0}\n",
      "NIEUWS! Politie #Amsterdam houdt zaterdag op Leidsekade zo'n duizend (!) demonstranten aan, maar zet in overleg met… https://t.co/4bUPG2r2Au\n",
      "['RT @PamelaZaat: Dierenopvang Amsterdam ziet een stijging van het aantal verwaarloosde huisdieren 😟https://t.co/addRrsN19v', 'Fout, de #coronamaatregelen zorgen voor meer leed bij huisdieren. - Corona zorgt voor meer huisdieren bij Dierenopv… https://t.co/N6RBwe2iFT', 'Corona zorgt voor meer huisdieren bij Dierenopvang Amsterdam https://t.co/j7HUhBb4i4 😢', \"NIEUWS! Politie #Amsterdam houdt zaterdag op Leidsekade zo'n duizend (!) demonstranten aan, maar zet in overleg met… https://t.co/4bUPG2r2Au\"]\n",
      "NIEUWS! Politie #Amsterdam houdt zaterdag op Leidsekade zo'n duizend (!) demonstranten aan, maar zet in overleg met… https://t.co/4bUPG2r2Au\n",
      "{'neg': 0.0, 'neu': 1.0, 'pos': 0.0, 'compound': 0.0}\n",
      "RT @kleurklank: Demo Amsterdam:\n",
      "De verpleegkundigen vertelden dat er met griep ook tijd mensen in alle leeftijden sterven, ieder jaar. Dat…\n",
      "['RT @PamelaZaat: Dierenopvang Amsterdam ziet een stijging van het aantal verwaarloosde huisdieren 😟https://t.co/addRrsN19v', 'Fout, de #coronamaatregelen zorgen voor meer leed bij huisdieren. - Corona zorgt voor meer huisdieren bij Dierenopv… https://t.co/N6RBwe2iFT', 'Corona zorgt voor meer huisdieren bij Dierenopvang Amsterdam https://t.co/j7HUhBb4i4 😢', \"NIEUWS! Politie #Amsterdam houdt zaterdag op Leidsekade zo'n duizend (!) demonstranten aan, maar zet in overleg met… https://t.co/4bUPG2r2Au\", 'RT @kleurklank: Demo Amsterdam:\\nDe verpleegkundigen vertelden dat er met griep ook tijd mensen in alle leeftijden sterven, ieder jaar. Dat…']\n",
      "RT @kleurklank: Demo Amsterdam:\n",
      "De verpleegkundigen vertelden dat er met griep ook tijd mensen in alle leeftijden sterven, ieder jaar. Dat…\n",
      "{'neg': 0.0, 'neu': 1.0, 'pos': 0.0, 'compound': 0.0}\n",
      "@British_Airways I checked the same but all info is only about arriving in the UK but no info around transiting via… https://t.co/dU9JEZ0wBg\n",
      "['RT @PamelaZaat: Dierenopvang Amsterdam ziet een stijging van het aantal verwaarloosde huisdieren 😟https://t.co/addRrsN19v', 'Fout, de #coronamaatregelen zorgen voor meer leed bij huisdieren. - Corona zorgt voor meer huisdieren bij Dierenopv… https://t.co/N6RBwe2iFT', 'Corona zorgt voor meer huisdieren bij Dierenopvang Amsterdam https://t.co/j7HUhBb4i4 😢', \"NIEUWS! Politie #Amsterdam houdt zaterdag op Leidsekade zo'n duizend (!) demonstranten aan, maar zet in overleg met… https://t.co/4bUPG2r2Au\", 'RT @kleurklank: Demo Amsterdam:\\nDe verpleegkundigen vertelden dat er met griep ook tijd mensen in alle leeftijden sterven, ieder jaar. Dat…', '@British_Airways I checked the same but all info is only about arriving in the UK but no info around transiting via… https://t.co/dU9JEZ0wBg']\n",
      "@British_Airways I checked the same but all info is only about arriving in the UK but no info around transiting via… https://t.co/dU9JEZ0wBg\n",
      "{'neg': 0.123, 'neu': 0.877, 'pos': 0.0, 'compound': -0.4215}\n",
      "Dierenopvang Amsterdam ziet steeds meer mishandelde huisdieren door corona. https://t.co/dSdpo3G9d3 #WNL\n",
      "['RT @PamelaZaat: Dierenopvang Amsterdam ziet een stijging van het aantal verwaarloosde huisdieren 😟https://t.co/addRrsN19v', 'Fout, de #coronamaatregelen zorgen voor meer leed bij huisdieren. - Corona zorgt voor meer huisdieren bij Dierenopv… https://t.co/N6RBwe2iFT', 'Corona zorgt voor meer huisdieren bij Dierenopvang Amsterdam https://t.co/j7HUhBb4i4 😢', \"NIEUWS! Politie #Amsterdam houdt zaterdag op Leidsekade zo'n duizend (!) demonstranten aan, maar zet in overleg met… https://t.co/4bUPG2r2Au\", 'RT @kleurklank: Demo Amsterdam:\\nDe verpleegkundigen vertelden dat er met griep ook tijd mensen in alle leeftijden sterven, ieder jaar. Dat…', '@British_Airways I checked the same but all info is only about arriving in the UK but no info around transiting via… https://t.co/dU9JEZ0wBg', 'Dierenopvang Amsterdam ziet steeds meer mishandelde huisdieren door corona. https://t.co/dSdpo3G9d3 #WNL']\n",
      "Dierenopvang Amsterdam ziet steeds meer mishandelde huisdieren door corona. https://t.co/dSdpo3G9d3 #WNL\n",
      "{'neg': 0.0, 'neu': 1.0, 'pos': 0.0, 'compound': 0.0}\n",
      "https://t.co/KvRQnamOTi\n",
      "https://t.co/SD0zV57XCO\n",
      "https://t.co/AItYsnQVw7\n",
      "https://t.co/OQoHGTQpvt… https://t.co/U8LPG30Seg\n",
      "['RT @PamelaZaat: Dierenopvang Amsterdam ziet een stijging van het aantal verwaarloosde huisdieren 😟https://t.co/addRrsN19v', 'Fout, de #coronamaatregelen zorgen voor meer leed bij huisdieren. - Corona zorgt voor meer huisdieren bij Dierenopv… https://t.co/N6RBwe2iFT', 'Corona zorgt voor meer huisdieren bij Dierenopvang Amsterdam https://t.co/j7HUhBb4i4 😢', \"NIEUWS! Politie #Amsterdam houdt zaterdag op Leidsekade zo'n duizend (!) demonstranten aan, maar zet in overleg met… https://t.co/4bUPG2r2Au\", 'RT @kleurklank: Demo Amsterdam:\\nDe verpleegkundigen vertelden dat er met griep ook tijd mensen in alle leeftijden sterven, ieder jaar. Dat…', '@British_Airways I checked the same but all info is only about arriving in the UK but no info around transiting via… https://t.co/dU9JEZ0wBg', 'Dierenopvang Amsterdam ziet steeds meer mishandelde huisdieren door corona. https://t.co/dSdpo3G9d3 #WNL', 'https://t.co/KvRQnamOTi\\nhttps://t.co/SD0zV57XCO\\nhttps://t.co/AItYsnQVw7\\nhttps://t.co/OQoHGTQpvt… https://t.co/U8LPG30Seg']\n",
      "https://t.co/KvRQnamOTi\n",
      "https://t.co/SD0zV57XCO\n",
      "https://t.co/AItYsnQVw7\n",
      "https://t.co/OQoHGTQpvt… https://t.co/U8LPG30Seg\n",
      "{'neg': 0.0, 'neu': 1.0, 'pos': 0.0, 'compound': 0.0}\n",
      "Dag gemeente @AmsterdamNL. Het is misschien wel burger- en bezoekersvriendeljjk om toiletwagens te plaatsen. Er zij… https://t.co/KqwVX8MiBm\n",
      "['RT @PamelaZaat: Dierenopvang Amsterdam ziet een stijging van het aantal verwaarloosde huisdieren 😟https://t.co/addRrsN19v', 'Fout, de #coronamaatregelen zorgen voor meer leed bij huisdieren. - Corona zorgt voor meer huisdieren bij Dierenopv… https://t.co/N6RBwe2iFT', 'Corona zorgt voor meer huisdieren bij Dierenopvang Amsterdam https://t.co/j7HUhBb4i4 😢', \"NIEUWS! Politie #Amsterdam houdt zaterdag op Leidsekade zo'n duizend (!) demonstranten aan, maar zet in overleg met… https://t.co/4bUPG2r2Au\", 'RT @kleurklank: Demo Amsterdam:\\nDe verpleegkundigen vertelden dat er met griep ook tijd mensen in alle leeftijden sterven, ieder jaar. Dat…', '@British_Airways I checked the same but all info is only about arriving in the UK but no info around transiting via… https://t.co/dU9JEZ0wBg', 'Dierenopvang Amsterdam ziet steeds meer mishandelde huisdieren door corona. https://t.co/dSdpo3G9d3 #WNL', 'https://t.co/KvRQnamOTi\\nhttps://t.co/SD0zV57XCO\\nhttps://t.co/AItYsnQVw7\\nhttps://t.co/OQoHGTQpvt… https://t.co/U8LPG30Seg', 'Dag gemeente @AmsterdamNL. Het is misschien wel burger- en bezoekersvriendeljjk om toiletwagens te plaatsen. Er zij… https://t.co/KqwVX8MiBm']\n",
      "Dag gemeente @AmsterdamNL. Het is misschien wel burger- en bezoekersvriendeljjk om toiletwagens te plaatsen. Er zij… https://t.co/KqwVX8MiBm\n",
      "{'neg': 0.0, 'neu': 1.0, 'pos': 0.0, 'compound': 0.0}\n",
      "𝐊𝐮𝐧𝐬𝐭 𝐜𝐨𝐫𝐨𝐧𝐚 𝐢𝐧 𝐝𝐞 𝐬𝐭𝐚𝐝\n",
      "Vijftien kunstenaars over hun ervaring met corona in de stad. Te zien op de hekwerken van c… https://t.co/rLooLPnjWp\n",
      "['RT @PamelaZaat: Dierenopvang Amsterdam ziet een stijging van het aantal verwaarloosde huisdieren 😟https://t.co/addRrsN19v', 'Fout, de #coronamaatregelen zorgen voor meer leed bij huisdieren. - Corona zorgt voor meer huisdieren bij Dierenopv… https://t.co/N6RBwe2iFT', 'Corona zorgt voor meer huisdieren bij Dierenopvang Amsterdam https://t.co/j7HUhBb4i4 😢', \"NIEUWS! Politie #Amsterdam houdt zaterdag op Leidsekade zo'n duizend (!) demonstranten aan, maar zet in overleg met… https://t.co/4bUPG2r2Au\", 'RT @kleurklank: Demo Amsterdam:\\nDe verpleegkundigen vertelden dat er met griep ook tijd mensen in alle leeftijden sterven, ieder jaar. Dat…', '@British_Airways I checked the same but all info is only about arriving in the UK but no info around transiting via… https://t.co/dU9JEZ0wBg', 'Dierenopvang Amsterdam ziet steeds meer mishandelde huisdieren door corona. https://t.co/dSdpo3G9d3 #WNL', 'https://t.co/KvRQnamOTi\\nhttps://t.co/SD0zV57XCO\\nhttps://t.co/AItYsnQVw7\\nhttps://t.co/OQoHGTQpvt… https://t.co/U8LPG30Seg', 'Dag gemeente @AmsterdamNL. Het is misschien wel burger- en bezoekersvriendeljjk om toiletwagens te plaatsen. Er zij… https://t.co/KqwVX8MiBm', '𝐊𝐮𝐧𝐬𝐭 𝐜𝐨𝐫𝐨𝐧𝐚 𝐢𝐧 𝐝𝐞 𝐬𝐭𝐚𝐝\\nVijftien kunstenaars over hun ervaring met corona in de stad. Te zien op de hekwerken van c… https://t.co/rLooLPnjWp']\n",
      "𝐊𝐮𝐧𝐬𝐭 𝐜𝐨𝐫𝐨𝐧𝐚 𝐢𝐧 𝐝𝐞 𝐬𝐭𝐚𝐝\n",
      "Vijftien kunstenaars over hun ervaring met corona in de stad. Te zien op de hekwerken van c… https://t.co/rLooLPnjWp\n",
      "{'neg': 0.0, 'neu': 1.0, 'pos': 0.0, 'compound': 0.0}\n"
     ]
    }
   ],
   "source": [
    "#Sentiment Analysis\n",
    "def percentage(part,whole):\n",
    " return 100 * float(part)/float(whole)\n",
    "\n",
    "print(\"start\")\n",
    "keyword = \"amsterdam corona\"#input(\"Please enter keyword or hashtag to search: \")\n",
    "\n",
    "noOfTweet = 10#int(input (\"Please enter how many tweets to analyze: \"))\n",
    "tweets = tweepy.Cursor(api.search, q=keyword).items(noOfTweet)\n",
    "positive = 0\n",
    "negative = 0\n",
    "neutral = 0\n",
    "polarity = 0\n",
    "tweet_list = []\n",
    "neutral_list = []\n",
    "negative_list = []\n",
    "positive_list = []\n",
    "\n",
    "for tweet in tweets:\n",
    "    print(tweet.text)\n",
    "    tweet_list.append(tweet.text)\n",
    "    print(tweet_list)\n",
    "    analysis = TextBlob(tweet.text)\n",
    "    print(analysis)\n",
    "    score = SentimentIntensityAnalyzer().polarity_scores(tweet.text)\n",
    "    print(score)\n",
    "    neg = score[\"neg\"]\n",
    "    neu = score[\"neu\"]\n",
    "    pos = score[\"pos\"]\n",
    "    comp = score[\"compound\"]\n",
    "    polarity += analysis.sentiment.polarity\n",
    "\n",
    "    if neg > pos:\n",
    "        negative_list.append(tweet.text)\n",
    "        negative += 1\n",
    "    elif pos > neg:\n",
    "        positive_list.append(tweet.text)\n",
    "        positive += 1\n",
    "    elif pos == neg:\n",
    "        neutral_list.append(tweet.text)\n",
    "        neutral += 1\n",
    "        positive = percentage(positive, noOfTweet)\n",
    "        negative = percentage(negative, noOfTweet)\n",
    "\n",
    "neutral = percentage(neutral, noOfTweet)\n",
    "polarity = percentage(polarity, noOfTweet)\n",
    "positive = format(positive, \".1f\")\n",
    "negative = format(negative, \".1f\")\n",
    "neutral = format(neutral, \".1f\")"
   ]
  },
  {
   "cell_type": "code",
   "execution_count": null,
   "id": "light-blank",
   "metadata": {},
   "outputs": [],
   "source": [
    "neutral_list = pd.DataFrame(neutral_list)"
   ]
  },
  {
   "cell_type": "code",
   "execution_count": 35,
   "id": "sticky-madrid",
   "metadata": {},
   "outputs": [],
   "source": [
    "#Function to Create Wordcloud\n",
    "\n",
    "def create_wordcloud(text):\n",
    "    #mask = np.array(Image.open(\"cloud.png\"))\n",
    "    #stopwords = set(STOPWORDS)\n",
    "    wc = WordCloud(background_color=\"white\",\n",
    "    #mask = mask,\n",
    "    max_words=3000,\n",
    "    stopwords=stopwords,\n",
    "    repeat=True)\n",
    "    wc.generate(str(text))\n",
    "    wc.to_file(\"wc.png\")\n",
    "    print(\"Word Cloud Saved Successfully\")\n",
    "    path=\"wc.png\"\n",
    "    display(Image.open(path))"
   ]
  },
  {
   "cell_type": "code",
   "execution_count": 36,
   "id": "simplified-elephant",
   "metadata": {},
   "outputs": [
    {
     "data": {
      "text/html": [
       "<div>\n",
       "<style scoped>\n",
       "    .dataframe tbody tr th:only-of-type {\n",
       "        vertical-align: middle;\n",
       "    }\n",
       "\n",
       "    .dataframe tbody tr th {\n",
       "        vertical-align: top;\n",
       "    }\n",
       "\n",
       "    .dataframe thead th {\n",
       "        text-align: right;\n",
       "    }\n",
       "</style>\n",
       "<table border=\"1\" class=\"dataframe\">\n",
       "  <thead>\n",
       "    <tr style=\"text-align: right;\">\n",
       "      <th></th>\n",
       "      <th>0</th>\n",
       "    </tr>\n",
       "  </thead>\n",
       "  <tbody>\n",
       "    <tr>\n",
       "      <th>0</th>\n",
       "      <td>RT @PamelaZaat: Dierenopvang Amsterdam ziet ee...</td>\n",
       "    </tr>\n",
       "    <tr>\n",
       "      <th>1</th>\n",
       "      <td>Fout, de #coronamaatregelen zorgen voor meer l...</td>\n",
       "    </tr>\n",
       "    <tr>\n",
       "      <th>2</th>\n",
       "      <td>Corona zorgt voor meer huisdieren bij Dierenop...</td>\n",
       "    </tr>\n",
       "    <tr>\n",
       "      <th>3</th>\n",
       "      <td>NIEUWS! Politie #Amsterdam houdt zaterdag op L...</td>\n",
       "    </tr>\n",
       "    <tr>\n",
       "      <th>4</th>\n",
       "      <td>RT @kleurklank: Demo Amsterdam:\\nDe verpleegku...</td>\n",
       "    </tr>\n",
       "    <tr>\n",
       "      <th>5</th>\n",
       "      <td>Dierenopvang Amsterdam ziet steeds meer mishan...</td>\n",
       "    </tr>\n",
       "    <tr>\n",
       "      <th>6</th>\n",
       "      <td>https://t.co/KvRQnamOTi\\nhttps://t.co/SD0zV57X...</td>\n",
       "    </tr>\n",
       "    <tr>\n",
       "      <th>7</th>\n",
       "      <td>Dag gemeente @AmsterdamNL. Het is misschien we...</td>\n",
       "    </tr>\n",
       "    <tr>\n",
       "      <th>8</th>\n",
       "      <td>𝐊𝐮𝐧𝐬𝐭 𝐜𝐨𝐫𝐨𝐧𝐚 𝐢𝐧 𝐝𝐞 𝐬𝐭𝐚𝐝\\nVijftien kunstenaars ...</td>\n",
       "    </tr>\n",
       "  </tbody>\n",
       "</table>\n",
       "</div>"
      ],
      "text/plain": [
       "                                                   0\n",
       "0  RT @PamelaZaat: Dierenopvang Amsterdam ziet ee...\n",
       "1  Fout, de #coronamaatregelen zorgen voor meer l...\n",
       "2  Corona zorgt voor meer huisdieren bij Dierenop...\n",
       "3  NIEUWS! Politie #Amsterdam houdt zaterdag op L...\n",
       "4  RT @kleurklank: Demo Amsterdam:\\nDe verpleegku...\n",
       "5  Dierenopvang Amsterdam ziet steeds meer mishan...\n",
       "6  https://t.co/KvRQnamOTi\\nhttps://t.co/SD0zV57X...\n",
       "7  Dag gemeente @AmsterdamNL. Het is misschien we...\n",
       "8  𝐊𝐮𝐧𝐬𝐭 𝐜𝐨𝐫𝐨𝐧𝐚 𝐢𝐧 𝐝𝐞 𝐬𝐭𝐚𝐝\\nVijftien kunstenaars ..."
      ]
     },
     "execution_count": 36,
     "metadata": {},
     "output_type": "execute_result"
    }
   ],
   "source": [
    "neutral_list"
   ]
  },
  {
   "cell_type": "code",
   "execution_count": 37,
   "id": "verified-pharmacy",
   "metadata": {},
   "outputs": [
    {
     "ename": "NameError",
     "evalue": "name 'WordCloud' is not defined",
     "output_type": "error",
     "traceback": [
      "\u001b[1;31m---------------------------------------------------------------------------\u001b[0m",
      "\u001b[1;31mNameError\u001b[0m                                 Traceback (most recent call last)",
      "\u001b[1;32m<ipython-input-37-090dded37547>\u001b[0m in \u001b[0;36m<module>\u001b[1;34m\u001b[0m\n\u001b[0;32m      1\u001b[0m \u001b[1;31m#Creating wordcloud for all tweets\u001b[0m\u001b[1;33m\u001b[0m\u001b[1;33m\u001b[0m\u001b[1;33m\u001b[0m\u001b[0m\n\u001b[1;32m----> 2\u001b[1;33m \u001b[0mcreate_wordcloud\u001b[0m\u001b[1;33m(\u001b[0m\u001b[0mneutral_list\u001b[0m\u001b[1;33m[\u001b[0m\u001b[1;36m0\u001b[0m\u001b[1;33m]\u001b[0m\u001b[1;33m.\u001b[0m\u001b[0mvalues\u001b[0m\u001b[1;33m)\u001b[0m\u001b[1;33m\u001b[0m\u001b[1;33m\u001b[0m\u001b[0m\n\u001b[0m",
      "\u001b[1;32m<ipython-input-35-c7b958d51749>\u001b[0m in \u001b[0;36mcreate_wordcloud\u001b[1;34m(text)\u001b[0m\n\u001b[0;32m      4\u001b[0m     \u001b[1;31m#mask = np.array(Image.open(\"cloud.png\"))\u001b[0m\u001b[1;33m\u001b[0m\u001b[1;33m\u001b[0m\u001b[1;33m\u001b[0m\u001b[0m\n\u001b[0;32m      5\u001b[0m     \u001b[1;31m#stopwords = set(STOPWORDS)\u001b[0m\u001b[1;33m\u001b[0m\u001b[1;33m\u001b[0m\u001b[1;33m\u001b[0m\u001b[0m\n\u001b[1;32m----> 6\u001b[1;33m     wc = WordCloud(background_color=\"white\",\n\u001b[0m\u001b[0;32m      7\u001b[0m     \u001b[1;31m#mask = mask,\u001b[0m\u001b[1;33m\u001b[0m\u001b[1;33m\u001b[0m\u001b[1;33m\u001b[0m\u001b[0m\n\u001b[0;32m      8\u001b[0m     \u001b[0mmax_words\u001b[0m\u001b[1;33m=\u001b[0m\u001b[1;36m3000\u001b[0m\u001b[1;33m,\u001b[0m\u001b[1;33m\u001b[0m\u001b[1;33m\u001b[0m\u001b[0m\n",
      "\u001b[1;31mNameError\u001b[0m: name 'WordCloud' is not defined"
     ]
    }
   ],
   "source": [
    "#Creating wordcloud for all tweets\n",
    "create_wordcloud(neutral_list[0].values)"
   ]
  },
  {
   "cell_type": "code",
   "execution_count": null,
   "id": "contemporary-grace",
   "metadata": {},
   "outputs": [],
   "source": []
  },
  {
   "cell_type": "code",
   "execution_count": 39,
   "id": "alpine-sterling",
   "metadata": {},
   "outputs": [],
   "source": [
    "auth = tweepy.AppAuthHandler(\"IAesCJ3iHqU28QxuhyKH7m9xZ\", \"QWjMUWD5ukm8nMF62N7qRupBuGOHlmpLGiPgtg4WdBkyUBLldP\")\n",
    "api = tweepy.API(auth)"
   ]
  },
  {
   "cell_type": "code",
   "execution_count": 43,
   "id": "earned-velvet",
   "metadata": {},
   "outputs": [],
   "source": [
    "tweets = api.search(\"amsterdam coronavirus\", count = 2 )\n"
   ]
  },
  {
   "cell_type": "code",
   "execution_count": 45,
   "id": "boring-connection",
   "metadata": {},
   "outputs": [
    {
     "data": {
      "text/plain": [
       "Status(_api=<tweepy.api.API object at 0x00000216927943A0>, _json={'created_at': 'Mon Mar 22 14:18:57 +0000 2021', 'id': 1374002664774762496, 'id_str': '1374002664774762496', 'text': 'RT @Antifaxismoa: Se multiplican en #Europa las manifestaciones neonazis / negacionistas en Londres, Viena, Bruselas, Estocolmo, Ámsterdam,…', 'truncated': False, 'entities': {'hashtags': [{'text': 'Europa', 'indices': [36, 43]}], 'symbols': [], 'user_mentions': [{'screen_name': 'Antifaxismoa', 'name': 'Sare Antifaxista', 'id': 166230558, 'id_str': '166230558', 'indices': [3, 16]}], 'urls': []}, 'metadata': {'iso_language_code': 'es', 'result_type': 'recent'}, 'source': '<a href=\"http://twitter.com/download/android\" rel=\"nofollow\">Twitter for Android</a>', 'in_reply_to_status_id': None, 'in_reply_to_status_id_str': None, 'in_reply_to_user_id': None, 'in_reply_to_user_id_str': None, 'in_reply_to_screen_name': None, 'user': {'id': 1363570543220383754, 'id_str': '1363570543220383754', 'name': 'Iosif ☭ ☭ #Llibertat Pablo Hasel ☭ ☭', 'screen_name': 'iosif1984', 'location': '', 'description': '1312 ☭ ☭#Llibertat Pablo Hasel ☭ ☭', 'url': None, 'entities': {'description': {'urls': []}}, 'protected': False, 'followers_count': 165, 'friends_count': 1150, 'listed_count': 0, 'created_at': 'Sun Feb 21 19:25:49 +0000 2021', 'favourites_count': 2685, 'utc_offset': None, 'time_zone': None, 'geo_enabled': False, 'verified': False, 'statuses_count': 1560, 'lang': None, 'contributors_enabled': False, 'is_translator': False, 'is_translation_enabled': False, 'profile_background_color': 'F5F8FA', 'profile_background_image_url': None, 'profile_background_image_url_https': None, 'profile_background_tile': False, 'profile_image_url': 'http://pbs.twimg.com/profile_images/1363571564340477953/DyO3ME-m_normal.jpg', 'profile_image_url_https': 'https://pbs.twimg.com/profile_images/1363571564340477953/DyO3ME-m_normal.jpg', 'profile_banner_url': 'https://pbs.twimg.com/profile_banners/1363570543220383754/1613939662', 'profile_link_color': '1DA1F2', 'profile_sidebar_border_color': 'C0DEED', 'profile_sidebar_fill_color': 'DDEEF6', 'profile_text_color': '333333', 'profile_use_background_image': True, 'has_extended_profile': True, 'default_profile': True, 'default_profile_image': False, 'following': None, 'follow_request_sent': None, 'notifications': None, 'translator_type': 'none'}, 'geo': None, 'coordinates': None, 'place': None, 'contributors': None, 'retweeted_status': {'created_at': 'Mon Mar 22 14:10:02 +0000 2021', 'id': 1374000418418798593, 'id_str': '1374000418418798593', 'text': 'Se multiplican en #Europa las manifestaciones neonazis / negacionistas en Londres, Viena, Bruselas, Estocolmo, Ámst… https://t.co/beRjkhWwvb', 'truncated': True, 'entities': {'hashtags': [{'text': 'Europa', 'indices': [18, 25]}], 'symbols': [], 'user_mentions': [], 'urls': [{'url': 'https://t.co/beRjkhWwvb', 'expanded_url': 'https://twitter.com/i/web/status/1374000418418798593', 'display_url': 'twitter.com/i/web/status/1…', 'indices': [117, 140]}]}, 'metadata': {'iso_language_code': 'es', 'result_type': 'recent'}, 'source': '<a href=\"http://twitter.com/#!/download/ipad\" rel=\"nofollow\">Twitter for iPad</a>', 'in_reply_to_status_id': None, 'in_reply_to_status_id_str': None, 'in_reply_to_user_id': None, 'in_reply_to_user_id_str': None, 'in_reply_to_screen_name': None, 'user': {'id': 166230558, 'id_str': '166230558', 'name': 'Sare Antifaxista', 'screen_name': 'Antifaxismoa', 'location': 'Euskal Herria', 'description': 'SARE ANTIFAXISTA, ANTIFAXISTAK GARELAKO !!\\r\\n\\r\\nEUSKAL ANTIFAXISTAK, EUSKAL HERRIA OSATZEN DUTEN ZAZPI HERRIALDETAKOAK.\\r\\n\\r\\nEuskal Herriko Antifaxista Taldea.', 'url': 'http://t.co/P2967JQ3md', 'entities': {'url': {'urls': [{'url': 'http://t.co/P2967JQ3md', 'expanded_url': 'http://sareantifaxista.blogspot.com/', 'display_url': 'sareantifaxista.blogspot.com', 'indices': [0, 22]}]}, 'description': {'urls': []}}, 'protected': False, 'followers_count': 20725, 'friends_count': 4347, 'listed_count': 183, 'created_at': 'Tue Jul 13 17:16:02 +0000 2010', 'favourites_count': 213112, 'utc_offset': None, 'time_zone': None, 'geo_enabled': False, 'verified': False, 'statuses_count': 226448, 'lang': None, 'contributors_enabled': False, 'is_translator': False, 'is_translation_enabled': False, 'profile_background_color': '050505', 'profile_background_image_url': 'http://abs.twimg.com/images/themes/theme15/bg.png', 'profile_background_image_url_https': 'https://abs.twimg.com/images/themes/theme15/bg.png', 'profile_background_tile': True, 'profile_image_url': 'http://pbs.twimg.com/profile_images/900722882749267968/pW1Fw9ZN_normal.jpg', 'profile_image_url_https': 'https://pbs.twimg.com/profile_images/900722882749267968/pW1Fw9ZN_normal.jpg', 'profile_banner_url': 'https://pbs.twimg.com/profile_banners/166230558/1503584539', 'profile_link_color': 'FF0000', 'profile_sidebar_border_color': 'FFFFFF', 'profile_sidebar_fill_color': 'C0DFEC', 'profile_text_color': '333333', 'profile_use_background_image': True, 'has_extended_profile': False, 'default_profile': False, 'default_profile_image': False, 'following': None, 'follow_request_sent': None, 'notifications': None, 'translator_type': 'none'}, 'geo': None, 'coordinates': None, 'place': None, 'contributors': None, 'is_quote_status': False, 'retweet_count': 1, 'favorite_count': 5, 'favorited': False, 'retweeted': False, 'lang': 'es'}, 'is_quote_status': False, 'retweet_count': 1, 'favorite_count': 0, 'favorited': False, 'retweeted': False, 'lang': 'es'}, created_at=datetime.datetime(2021, 3, 22, 14, 18, 57), id=1374002664774762496, id_str='1374002664774762496', text='RT @Antifaxismoa: Se multiplican en #Europa las manifestaciones neonazis / negacionistas en Londres, Viena, Bruselas, Estocolmo, Ámsterdam,…', truncated=False, entities={'hashtags': [{'text': 'Europa', 'indices': [36, 43]}], 'symbols': [], 'user_mentions': [{'screen_name': 'Antifaxismoa', 'name': 'Sare Antifaxista', 'id': 166230558, 'id_str': '166230558', 'indices': [3, 16]}], 'urls': []}, metadata={'iso_language_code': 'es', 'result_type': 'recent'}, source='Twitter for Android', source_url='http://twitter.com/download/android', in_reply_to_status_id=None, in_reply_to_status_id_str=None, in_reply_to_user_id=None, in_reply_to_user_id_str=None, in_reply_to_screen_name=None, author=User(_api=<tweepy.api.API object at 0x00000216927943A0>, _json={'id': 1363570543220383754, 'id_str': '1363570543220383754', 'name': 'Iosif ☭ ☭ #Llibertat Pablo Hasel ☭ ☭', 'screen_name': 'iosif1984', 'location': '', 'description': '1312 ☭ ☭#Llibertat Pablo Hasel ☭ ☭', 'url': None, 'entities': {'description': {'urls': []}}, 'protected': False, 'followers_count': 165, 'friends_count': 1150, 'listed_count': 0, 'created_at': 'Sun Feb 21 19:25:49 +0000 2021', 'favourites_count': 2685, 'utc_offset': None, 'time_zone': None, 'geo_enabled': False, 'verified': False, 'statuses_count': 1560, 'lang': None, 'contributors_enabled': False, 'is_translator': False, 'is_translation_enabled': False, 'profile_background_color': 'F5F8FA', 'profile_background_image_url': None, 'profile_background_image_url_https': None, 'profile_background_tile': False, 'profile_image_url': 'http://pbs.twimg.com/profile_images/1363571564340477953/DyO3ME-m_normal.jpg', 'profile_image_url_https': 'https://pbs.twimg.com/profile_images/1363571564340477953/DyO3ME-m_normal.jpg', 'profile_banner_url': 'https://pbs.twimg.com/profile_banners/1363570543220383754/1613939662', 'profile_link_color': '1DA1F2', 'profile_sidebar_border_color': 'C0DEED', 'profile_sidebar_fill_color': 'DDEEF6', 'profile_text_color': '333333', 'profile_use_background_image': True, 'has_extended_profile': True, 'default_profile': True, 'default_profile_image': False, 'following': None, 'follow_request_sent': None, 'notifications': None, 'translator_type': 'none'}, id=1363570543220383754, id_str='1363570543220383754', name='Iosif ☭ ☭ #Llibertat Pablo Hasel ☭ ☭', screen_name='iosif1984', location='', description='1312 ☭ ☭#Llibertat Pablo Hasel ☭ ☭', url=None, entities={'description': {'urls': []}}, protected=False, followers_count=165, friends_count=1150, listed_count=0, created_at=datetime.datetime(2021, 2, 21, 19, 25, 49), favourites_count=2685, utc_offset=None, time_zone=None, geo_enabled=False, verified=False, statuses_count=1560, lang=None, contributors_enabled=False, is_translator=False, is_translation_enabled=False, profile_background_color='F5F8FA', profile_background_image_url=None, profile_background_image_url_https=None, profile_background_tile=False, profile_image_url='http://pbs.twimg.com/profile_images/1363571564340477953/DyO3ME-m_normal.jpg', profile_image_url_https='https://pbs.twimg.com/profile_images/1363571564340477953/DyO3ME-m_normal.jpg', profile_banner_url='https://pbs.twimg.com/profile_banners/1363570543220383754/1613939662', profile_link_color='1DA1F2', profile_sidebar_border_color='C0DEED', profile_sidebar_fill_color='DDEEF6', profile_text_color='333333', profile_use_background_image=True, has_extended_profile=True, default_profile=True, default_profile_image=False, following=False, follow_request_sent=None, notifications=None, translator_type='none'), user=User(_api=<tweepy.api.API object at 0x00000216927943A0>, _json={'id': 1363570543220383754, 'id_str': '1363570543220383754', 'name': 'Iosif ☭ ☭ #Llibertat Pablo Hasel ☭ ☭', 'screen_name': 'iosif1984', 'location': '', 'description': '1312 ☭ ☭#Llibertat Pablo Hasel ☭ ☭', 'url': None, 'entities': {'description': {'urls': []}}, 'protected': False, 'followers_count': 165, 'friends_count': 1150, 'listed_count': 0, 'created_at': 'Sun Feb 21 19:25:49 +0000 2021', 'favourites_count': 2685, 'utc_offset': None, 'time_zone': None, 'geo_enabled': False, 'verified': False, 'statuses_count': 1560, 'lang': None, 'contributors_enabled': False, 'is_translator': False, 'is_translation_enabled': False, 'profile_background_color': 'F5F8FA', 'profile_background_image_url': None, 'profile_background_image_url_https': None, 'profile_background_tile': False, 'profile_image_url': 'http://pbs.twimg.com/profile_images/1363571564340477953/DyO3ME-m_normal.jpg', 'profile_image_url_https': 'https://pbs.twimg.com/profile_images/1363571564340477953/DyO3ME-m_normal.jpg', 'profile_banner_url': 'https://pbs.twimg.com/profile_banners/1363570543220383754/1613939662', 'profile_link_color': '1DA1F2', 'profile_sidebar_border_color': 'C0DEED', 'profile_sidebar_fill_color': 'DDEEF6', 'profile_text_color': '333333', 'profile_use_background_image': True, 'has_extended_profile': True, 'default_profile': True, 'default_profile_image': False, 'following': None, 'follow_request_sent': None, 'notifications': None, 'translator_type': 'none'}, id=1363570543220383754, id_str='1363570543220383754', name='Iosif ☭ ☭ #Llibertat Pablo Hasel ☭ ☭', screen_name='iosif1984', location='', description='1312 ☭ ☭#Llibertat Pablo Hasel ☭ ☭', url=None, entities={'description': {'urls': []}}, protected=False, followers_count=165, friends_count=1150, listed_count=0, created_at=datetime.datetime(2021, 2, 21, 19, 25, 49), favourites_count=2685, utc_offset=None, time_zone=None, geo_enabled=False, verified=False, statuses_count=1560, lang=None, contributors_enabled=False, is_translator=False, is_translation_enabled=False, profile_background_color='F5F8FA', profile_background_image_url=None, profile_background_image_url_https=None, profile_background_tile=False, profile_image_url='http://pbs.twimg.com/profile_images/1363571564340477953/DyO3ME-m_normal.jpg', profile_image_url_https='https://pbs.twimg.com/profile_images/1363571564340477953/DyO3ME-m_normal.jpg', profile_banner_url='https://pbs.twimg.com/profile_banners/1363570543220383754/1613939662', profile_link_color='1DA1F2', profile_sidebar_border_color='C0DEED', profile_sidebar_fill_color='DDEEF6', profile_text_color='333333', profile_use_background_image=True, has_extended_profile=True, default_profile=True, default_profile_image=False, following=False, follow_request_sent=None, notifications=None, translator_type='none'), geo=None, coordinates=None, place=None, contributors=None, retweeted_status=Status(_api=<tweepy.api.API object at 0x00000216927943A0>, _json={'created_at': 'Mon Mar 22 14:10:02 +0000 2021', 'id': 1374000418418798593, 'id_str': '1374000418418798593', 'text': 'Se multiplican en #Europa las manifestaciones neonazis / negacionistas en Londres, Viena, Bruselas, Estocolmo, Ámst… https://t.co/beRjkhWwvb', 'truncated': True, 'entities': {'hashtags': [{'text': 'Europa', 'indices': [18, 25]}], 'symbols': [], 'user_mentions': [], 'urls': [{'url': 'https://t.co/beRjkhWwvb', 'expanded_url': 'https://twitter.com/i/web/status/1374000418418798593', 'display_url': 'twitter.com/i/web/status/1…', 'indices': [117, 140]}]}, 'metadata': {'iso_language_code': 'es', 'result_type': 'recent'}, 'source': '<a href=\"http://twitter.com/#!/download/ipad\" rel=\"nofollow\">Twitter for iPad</a>', 'in_reply_to_status_id': None, 'in_reply_to_status_id_str': None, 'in_reply_to_user_id': None, 'in_reply_to_user_id_str': None, 'in_reply_to_screen_name': None, 'user': {'id': 166230558, 'id_str': '166230558', 'name': 'Sare Antifaxista', 'screen_name': 'Antifaxismoa', 'location': 'Euskal Herria', 'description': 'SARE ANTIFAXISTA, ANTIFAXISTAK GARELAKO !!\\r\\n\\r\\nEUSKAL ANTIFAXISTAK, EUSKAL HERRIA OSATZEN DUTEN ZAZPI HERRIALDETAKOAK.\\r\\n\\r\\nEuskal Herriko Antifaxista Taldea.', 'url': 'http://t.co/P2967JQ3md', 'entities': {'url': {'urls': [{'url': 'http://t.co/P2967JQ3md', 'expanded_url': 'http://sareantifaxista.blogspot.com/', 'display_url': 'sareantifaxista.blogspot.com', 'indices': [0, 22]}]}, 'description': {'urls': []}}, 'protected': False, 'followers_count': 20725, 'friends_count': 4347, 'listed_count': 183, 'created_at': 'Tue Jul 13 17:16:02 +0000 2010', 'favourites_count': 213112, 'utc_offset': None, 'time_zone': None, 'geo_enabled': False, 'verified': False, 'statuses_count': 226448, 'lang': None, 'contributors_enabled': False, 'is_translator': False, 'is_translation_enabled': False, 'profile_background_color': '050505', 'profile_background_image_url': 'http://abs.twimg.com/images/themes/theme15/bg.png', 'profile_background_image_url_https': 'https://abs.twimg.com/images/themes/theme15/bg.png', 'profile_background_tile': True, 'profile_image_url': 'http://pbs.twimg.com/profile_images/900722882749267968/pW1Fw9ZN_normal.jpg', 'profile_image_url_https': 'https://pbs.twimg.com/profile_images/900722882749267968/pW1Fw9ZN_normal.jpg', 'profile_banner_url': 'https://pbs.twimg.com/profile_banners/166230558/1503584539', 'profile_link_color': 'FF0000', 'profile_sidebar_border_color': 'FFFFFF', 'profile_sidebar_fill_color': 'C0DFEC', 'profile_text_color': '333333', 'profile_use_background_image': True, 'has_extended_profile': False, 'default_profile': False, 'default_profile_image': False, 'following': None, 'follow_request_sent': None, 'notifications': None, 'translator_type': 'none'}, 'geo': None, 'coordinates': None, 'place': None, 'contributors': None, 'is_quote_status': False, 'retweet_count': 1, 'favorite_count': 5, 'favorited': False, 'retweeted': False, 'lang': 'es'}, created_at=datetime.datetime(2021, 3, 22, 14, 10, 2), id=1374000418418798593, id_str='1374000418418798593', text='Se multiplican en #Europa las manifestaciones neonazis / negacionistas en Londres, Viena, Bruselas, Estocolmo, Ámst… https://t.co/beRjkhWwvb', truncated=True, entities={'hashtags': [{'text': 'Europa', 'indices': [18, 25]}], 'symbols': [], 'user_mentions': [], 'urls': [{'url': 'https://t.co/beRjkhWwvb', 'expanded_url': 'https://twitter.com/i/web/status/1374000418418798593', 'display_url': 'twitter.com/i/web/status/1…', 'indices': [117, 140]}]}, metadata={'iso_language_code': 'es', 'result_type': 'recent'}, source='Twitter for iPad', source_url='http://twitter.com/#!/download/ipad', in_reply_to_status_id=None, in_reply_to_status_id_str=None, in_reply_to_user_id=None, in_reply_to_user_id_str=None, in_reply_to_screen_name=None, author=User(_api=<tweepy.api.API object at 0x00000216927943A0>, _json={'id': 166230558, 'id_str': '166230558', 'name': 'Sare Antifaxista', 'screen_name': 'Antifaxismoa', 'location': 'Euskal Herria', 'description': 'SARE ANTIFAXISTA, ANTIFAXISTAK GARELAKO !!\\r\\n\\r\\nEUSKAL ANTIFAXISTAK, EUSKAL HERRIA OSATZEN DUTEN ZAZPI HERRIALDETAKOAK.\\r\\n\\r\\nEuskal Herriko Antifaxista Taldea.', 'url': 'http://t.co/P2967JQ3md', 'entities': {'url': {'urls': [{'url': 'http://t.co/P2967JQ3md', 'expanded_url': 'http://sareantifaxista.blogspot.com/', 'display_url': 'sareantifaxista.blogspot.com', 'indices': [0, 22]}]}, 'description': {'urls': []}}, 'protected': False, 'followers_count': 20725, 'friends_count': 4347, 'listed_count': 183, 'created_at': 'Tue Jul 13 17:16:02 +0000 2010', 'favourites_count': 213112, 'utc_offset': None, 'time_zone': None, 'geo_enabled': False, 'verified': False, 'statuses_count': 226448, 'lang': None, 'contributors_enabled': False, 'is_translator': False, 'is_translation_enabled': False, 'profile_background_color': '050505', 'profile_background_image_url': 'http://abs.twimg.com/images/themes/theme15/bg.png', 'profile_background_image_url_https': 'https://abs.twimg.com/images/themes/theme15/bg.png', 'profile_background_tile': True, 'profile_image_url': 'http://pbs.twimg.com/profile_images/900722882749267968/pW1Fw9ZN_normal.jpg', 'profile_image_url_https': 'https://pbs.twimg.com/profile_images/900722882749267968/pW1Fw9ZN_normal.jpg', 'profile_banner_url': 'https://pbs.twimg.com/profile_banners/166230558/1503584539', 'profile_link_color': 'FF0000', 'profile_sidebar_border_color': 'FFFFFF', 'profile_sidebar_fill_color': 'C0DFEC', 'profile_text_color': '333333', 'profile_use_background_image': True, 'has_extended_profile': False, 'default_profile': False, 'default_profile_image': False, 'following': None, 'follow_request_sent': None, 'notifications': None, 'translator_type': 'none'}, id=166230558, id_str='166230558', name='Sare Antifaxista', screen_name='Antifaxismoa', location='Euskal Herria', description='SARE ANTIFAXISTA, ANTIFAXISTAK GARELAKO !!\\r\\n\\r\\nEUSKAL ANTIFAXISTAK, EUSKAL HERRIA OSATZEN DUTEN ZAZPI HERRIALDETAKOAK.\\r\\n\\r\\nEuskal Herriko Antifaxista Taldea.', url='http://t.co/P2967JQ3md', entities={'url': {'urls': [{'url': 'http://t.co/P2967JQ3md', 'expanded_url': 'http://sareantifaxista.blogspot.com/', 'display_url': 'sareantifaxista.blogspot.com', 'indices': [0, 22]}]}, 'description': {'urls': []}}, protected=False, followers_count=20725, friends_count=4347, listed_count=183, created_at=datetime.datetime(2010, 7, 13, 17, 16, 2), favourites_count=213112, utc_offset=None, time_zone=None, geo_enabled=False, verified=False, statuses_count=226448, lang=None, contributors_enabled=False, is_translator=False, is_translation_enabled=False, profile_background_color='050505', profile_background_image_url='http://abs.twimg.com/images/themes/theme15/bg.png', profile_background_image_url_https='https://abs.twimg.com/images/themes/theme15/bg.png', profile_background_tile=True, profile_image_url='http://pbs.twimg.com/profile_images/900722882749267968/pW1Fw9ZN_normal.jpg', profile_image_url_https='https://pbs.twimg.com/profile_images/900722882749267968/pW1Fw9ZN_normal.jpg', profile_banner_url='https://pbs.twimg.com/profile_banners/166230558/1503584539', profile_link_color='FF0000', profile_sidebar_border_color='FFFFFF', profile_sidebar_fill_color='C0DFEC', profile_text_color='333333', profile_use_background_image=True, has_extended_profile=False, default_profile=False, default_profile_image=False, following=False, follow_request_sent=None, notifications=None, translator_type='none'), user=User(_api=<tweepy.api.API object at 0x00000216927943A0>, _json={'id': 166230558, 'id_str': '166230558', 'name': 'Sare Antifaxista', 'screen_name': 'Antifaxismoa', 'location': 'Euskal Herria', 'description': 'SARE ANTIFAXISTA, ANTIFAXISTAK GARELAKO !!\\r\\n\\r\\nEUSKAL ANTIFAXISTAK, EUSKAL HERRIA OSATZEN DUTEN ZAZPI HERRIALDETAKOAK.\\r\\n\\r\\nEuskal Herriko Antifaxista Taldea.', 'url': 'http://t.co/P2967JQ3md', 'entities': {'url': {'urls': [{'url': 'http://t.co/P2967JQ3md', 'expanded_url': 'http://sareantifaxista.blogspot.com/', 'display_url': 'sareantifaxista.blogspot.com', 'indices': [0, 22]}]}, 'description': {'urls': []}}, 'protected': False, 'followers_count': 20725, 'friends_count': 4347, 'listed_count': 183, 'created_at': 'Tue Jul 13 17:16:02 +0000 2010', 'favourites_count': 213112, 'utc_offset': None, 'time_zone': None, 'geo_enabled': False, 'verified': False, 'statuses_count': 226448, 'lang': None, 'contributors_enabled': False, 'is_translator': False, 'is_translation_enabled': False, 'profile_background_color': '050505', 'profile_background_image_url': 'http://abs.twimg.com/images/themes/theme15/bg.png', 'profile_background_image_url_https': 'https://abs.twimg.com/images/themes/theme15/bg.png', 'profile_background_tile': True, 'profile_image_url': 'http://pbs.twimg.com/profile_images/900722882749267968/pW1Fw9ZN_normal.jpg', 'profile_image_url_https': 'https://pbs.twimg.com/profile_images/900722882749267968/pW1Fw9ZN_normal.jpg', 'profile_banner_url': 'https://pbs.twimg.com/profile_banners/166230558/1503584539', 'profile_link_color': 'FF0000', 'profile_sidebar_border_color': 'FFFFFF', 'profile_sidebar_fill_color': 'C0DFEC', 'profile_text_color': '333333', 'profile_use_background_image': True, 'has_extended_profile': False, 'default_profile': False, 'default_profile_image': False, 'following': None, 'follow_request_sent': None, 'notifications': None, 'translator_type': 'none'}, id=166230558, id_str='166230558', name='Sare Antifaxista', screen_name='Antifaxismoa', location='Euskal Herria', description='SARE ANTIFAXISTA, ANTIFAXISTAK GARELAKO !!\\r\\n\\r\\nEUSKAL ANTIFAXISTAK, EUSKAL HERRIA OSATZEN DUTEN ZAZPI HERRIALDETAKOAK.\\r\\n\\r\\nEuskal Herriko Antifaxista Taldea.', url='http://t.co/P2967JQ3md', entities={'url': {'urls': [{'url': 'http://t.co/P2967JQ3md', 'expanded_url': 'http://sareantifaxista.blogspot.com/', 'display_url': 'sareantifaxista.blogspot.com', 'indices': [0, 22]}]}, 'description': {'urls': []}}, protected=False, followers_count=20725, friends_count=4347, listed_count=183, created_at=datetime.datetime(2010, 7, 13, 17, 16, 2), favourites_count=213112, utc_offset=None, time_zone=None, geo_enabled=False, verified=False, statuses_count=226448, lang=None, contributors_enabled=False, is_translator=False, is_translation_enabled=False, profile_background_color='050505', profile_background_image_url='http://abs.twimg.com/images/themes/theme15/bg.png', profile_background_image_url_https='https://abs.twimg.com/images/themes/theme15/bg.png', profile_background_tile=True, profile_image_url='http://pbs.twimg.com/profile_images/900722882749267968/pW1Fw9ZN_normal.jpg', profile_image_url_https='https://pbs.twimg.com/profile_images/900722882749267968/pW1Fw9ZN_normal.jpg', profile_banner_url='https://pbs.twimg.com/profile_banners/166230558/1503584539', profile_link_color='FF0000', profile_sidebar_border_color='FFFFFF', profile_sidebar_fill_color='C0DFEC', profile_text_color='333333', profile_use_background_image=True, has_extended_profile=False, default_profile=False, default_profile_image=False, following=False, follow_request_sent=None, notifications=None, translator_type='none'), geo=None, coordinates=None, place=None, contributors=None, is_quote_status=False, retweet_count=1, favorite_count=5, favorited=False, retweeted=False, lang='es'), is_quote_status=False, retweet_count=1, favorite_count=0, favorited=False, retweeted=False, lang='es')"
      ]
     },
     "execution_count": 45,
     "metadata": {},
     "output_type": "execute_result"
    }
   ],
   "source": [
    "tweets[0]"
   ]
  },
  {
   "cell_type": "code",
   "execution_count": null,
   "id": "incorrect-holiday",
   "metadata": {},
   "outputs": [],
   "source": [
    "tweepy.Cursor(api.search, q=keyword).items(10)"
   ]
  }
 ],
 "metadata": {
  "kernelspec": {
   "display_name": "Python 3",
   "language": "python",
   "name": "python3"
  },
  "language_info": {
   "codemirror_mode": {
    "name": "ipython",
    "version": 3
   },
   "file_extension": ".py",
   "mimetype": "text/x-python",
   "name": "python",
   "nbconvert_exporter": "python",
   "pygments_lexer": "ipython3",
   "version": "3.9.2"
  }
 },
 "nbformat": 4,
 "nbformat_minor": 5
}
